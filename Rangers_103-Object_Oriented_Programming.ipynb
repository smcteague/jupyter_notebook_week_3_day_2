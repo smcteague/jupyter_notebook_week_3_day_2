{
 "cells": [
  {
   "cell_type": "markdown",
   "metadata": {},
   "source": [
    "# Object-Oriented-Programming (OOP)"
   ]
  },
  {
   "cell_type": "markdown",
   "metadata": {},
   "source": [
    "## Tasks Today:\n",
    "\n",
    "   \n",
    "\n",
    "1) <b>Creating a Class (Initializing/Declaring)</b> <br>\n",
    "2) <b>Using a Class (Instantiating)</b> <br>\n",
    " &nbsp;&nbsp;&nbsp;&nbsp; a) Creating One Instance <br>\n",
    " &nbsp;&nbsp;&nbsp;&nbsp; b) Creating Multiple Instances <br>\n",
    " &nbsp;&nbsp;&nbsp;&nbsp; c) In-Class Exercise #1 - Create a Class 'Car' and instantiate three different makes of cars <br>\n",
    "3) <b>The \\__init\\__() Method</b> <br>\n",
    " &nbsp;&nbsp;&nbsp;&nbsp; a) The 'self' Attribute <br>\n",
    "4) <b>Class Attributes</b> <br>\n",
    " &nbsp;&nbsp;&nbsp;&nbsp; a) Initializing Attributes <br>\n",
    " &nbsp;&nbsp;&nbsp;&nbsp; b) Setting an Attribute Outside of the \\__init\\__() Method <br>\n",
    " &nbsp;&nbsp;&nbsp;&nbsp; c) Setting Defaults for Attributes <br>\n",
    " &nbsp;&nbsp;&nbsp;&nbsp; d) Accessing Class Attributes <br>\n",
    " &nbsp;&nbsp;&nbsp;&nbsp; e) Changing Class Attributes <br>\n",
    " &nbsp;&nbsp;&nbsp;&nbsp; f) In-Class Exercise #2 - Add a color and wheels attribute to your 'Car' class <br>\n",
    "5) <b>Class Methods</b> <br>\n",
    " &nbsp;&nbsp;&nbsp;&nbsp; a) Creating <br>\n",
    " &nbsp;&nbsp;&nbsp;&nbsp; b) Calling <br>\n",
    " &nbsp;&nbsp;&nbsp;&nbsp; c) Modifying an Attribute's Value Through a Method <br>\n",
    " &nbsp;&nbsp;&nbsp;&nbsp; d) Incrementing an Attribute's Value Through a Method <br>\n",
    " &nbsp;&nbsp;&nbsp;&nbsp; e) In-Class Exercise #3 - Add a method that prints the cars color and wheel number, then call them <br>\n",
    "6) <b>Inheritance</b> <br>\n",
    " &nbsp;&nbsp;&nbsp;&nbsp; a) Syntax for Inheriting from a Parent Class <br>\n",
    " &nbsp;&nbsp;&nbsp;&nbsp; b) The \\__init\\__() Method for a Child Class (super()) <br>\n",
    " &nbsp;&nbsp;&nbsp;&nbsp; c) Defining Attributes and Methods for the Child Class <br>\n",
    " &nbsp;&nbsp;&nbsp;&nbsp; d) Method Overriding <br>\n",
    " &nbsp;&nbsp;&nbsp;&nbsp; e) In-Class Exercise #4 - Create a class 'Ford' that inherits from 'Car' class and initialize it as a Blue Ford Explorer with 4 wheels using the super() method <br>\n",
    "7) <b>Classes as Attributes</b> <br>\n",
    "8) <b>Exercises</b> <br>\n",
    " &nbsp;&nbsp;&nbsp;&nbsp; a) Exercise #1 - Turn the shopping cart program from last week into an object-oriented program <br>"
   ]
  },
  {
   "cell_type": "markdown",
   "metadata": {},
   "source": [
    "## Creating a Class (Initializing/Declaring)\n",
    "<p>When creating a class, function, or even a variable you are initializing that object. Initializing and Declaring occur at the same time in Python, whereas in lower level languages you have to declare an object before initializing it. This is the first step in the process of using a class.</p>"
   ]
  },
  {
   "cell_type": "code",
   "execution_count": 2,
   "metadata": {},
   "outputs": [
    {
     "name": "stdout",
     "output_type": "stream",
     "text": [
      "<class '__main__.Car'>\n"
     ]
    }
   ],
   "source": [
    "class Car():\n",
    "    wheels = 4\n",
    "    color = 'blue'\n",
    "\n",
    "print(type(Car()))\n"
   ]
  },
  {
   "cell_type": "markdown",
   "metadata": {},
   "source": [
    "## Using a Class (Instantiating)\n",
    "<p>The process of creating a class is called <i>Instantiating</i>. Each time you create a variable of that type of class, it is referred to as an <i>Instance</i> of that class. This is the second step in the process of using a class.</p>"
   ]
  },
  {
   "cell_type": "markdown",
   "metadata": {},
   "source": [
    "##### Creating One Instance"
   ]
  },
  {
   "cell_type": "code",
   "execution_count": 7,
   "metadata": {},
   "outputs": [
    {
     "name": "stdout",
     "output_type": "stream",
     "text": [
      "<class '__main__.Car'>\n",
      "4\n"
     ]
    }
   ],
   "source": [
    "ford = Car()\n",
    "\n",
    "print(type(ford))\n",
    "print(ford.wheels)\n"
   ]
  },
  {
   "cell_type": "markdown",
   "metadata": {},
   "source": [
    "##### Creating Multiple Instances"
   ]
  },
  {
   "cell_type": "code",
   "execution_count": 8,
   "metadata": {},
   "outputs": [
    {
     "name": "stdout",
     "output_type": "stream",
     "text": [
      "blue\n",
      "4\n",
      "blue\n"
     ]
    }
   ],
   "source": [
    "mazda = Car()\n",
    "print(mazda.color)\n",
    "honda = Car()\n",
    "print(honda.wheels)\n",
    "chevy = Car()\n",
    "print(chevy.color)\n",
    "\n"
   ]
  },
  {
   "cell_type": "markdown",
   "metadata": {},
   "source": [
    "##### In-Class Exercise #1 - Create a Class 'Car' and Instantiate three different makes of cars"
   ]
  },
  {
   "cell_type": "code",
   "execution_count": 34,
   "metadata": {},
   "outputs": [
    {
     "name": "stdout",
     "output_type": "stream",
     "text": [
      "Make: Hyundai\n",
      "Model: Ionic 5\n",
      "Body Style: Compact SUV\n",
      "Number of Doors: 4\n",
      "Power Source: EV\n",
      "Year: 2023\n"
     ]
    }
   ],
   "source": [
    "class Car():\n",
    "    def __init__(self, make, model, body_style, doors, power_source, year):\n",
    "        self.make = make\n",
    "        self.model = model\n",
    "        self.body_style = body_style\n",
    "        self.doors = doors\n",
    "        self.power_source = power_source\n",
    "        self.year = year\n",
    "        \n",
    "new_car = Car(\"Hyundai\", \"Ionic 5\", \"Compact SUV\", 4, \"EV\", \"2023\")\n",
    "\n",
    "print(f\"Make: {new_car.make}\")\n",
    "print(f\"Model: {new_car.model}\")\n",
    "print(f\"Body Style: {new_car.body_style}\")\n",
    "print(f\"Number of Doors: {new_car.doors}\")\n",
    "print(f\"Power Source: {new_car.power_source}\")\n",
    "print(f\"Year: {new_car.year}\")\n"
   ]
  },
  {
   "cell_type": "markdown",
   "metadata": {},
   "source": [
    "## The \\__init\\__() Method <br>\n",
    "<p>This method is used in almost every created class, and called only once upon the creation of the class instance. This method will initialize all variables needed for the object.</p>"
   ]
  },
  {
   "cell_type": "code",
   "execution_count": 60,
   "metadata": {},
   "outputs": [
    {
     "name": "stdout",
     "output_type": "stream",
     "text": [
      "4\n",
      "blue\n",
      "2\n",
      "\n",
      "\n",
      "4\n",
      "red\n",
      "6\n",
      "\n",
      "\n",
      "4.7L\n"
     ]
    }
   ],
   "source": [
    "class Car():\n",
    "    ENGINE = \"4.7L\" # constant in all caps, not likely to change across instances\n",
    "    def __init__(self, wheels, color, doors):\n",
    "        self.wheels = wheels\n",
    "        self.color = color\n",
    "        self.doors = doors\n",
    "\n",
    "ford = Car(4, \"blue\", 2)\n",
    "print(ford.wheels)\n",
    "print(ford.color)\n",
    "print(ford.doors)\n",
    "\n",
    "print(\"\\n\")\n",
    "\n",
    "mazda = Car(4, \"red\", 6)\n",
    "print(mazda.wheels)\n",
    "print(mazda.color)\n",
    "print(mazda.doors)\n",
    "\n",
    "print(\"\\n\")\n",
    "\n",
    "print(ford.ENGINE)\n"
   ]
  },
  {
   "cell_type": "markdown",
   "metadata": {},
   "source": [
    "##### The 'self' Attribute <br>\n",
    "<p>This attribute is required to keep track of specific instance's attributes. Without the self attribute, the program would not know how to reference or keep track of an instance's attributes.</p>"
   ]
  },
  {
   "cell_type": "code",
   "execution_count": 61,
   "metadata": {},
   "outputs": [
    {
     "name": "stdout",
     "output_type": "stream",
     "text": [
      "self is referencing the object <__main__.Pokemon object at 0x00000268B00CECD0>, \n",
      "Charmander\n",
      "fire\n"
     ]
    }
   ],
   "source": [
    "# see above\n",
    "# usage of the word \"self\" is just convention; it can be any word in that position\n",
    "\n",
    "class Pokemon():\n",
    "    def __init__(self, name, type_):\n",
    "        # self is going to hold the place of the object we instantiate\n",
    "        self.name = name\n",
    "        self.type_ = type_\n",
    "        print(f\"self is referencing the object {self}, \\n{self.name}\")\n",
    "        print(self.type_)\n",
    "\n",
    "charmander = Pokemon(\"Charmander\", \"fire\")\n"
   ]
  },
  {
   "cell_type": "markdown",
   "metadata": {},
   "source": [
    "## Class Attributes <br>\n",
    "<p>While variables are inside of a class, they are referred to as attributes and not variables. When someone says 'attribute' you know they're speaking about a class. Attributes can be initialized through the init method, or outside of it.</p>"
   ]
  },
  {
   "cell_type": "markdown",
   "metadata": {},
   "source": [
    "##### Initializing Attributes"
   ]
  },
  {
   "cell_type": "code",
   "execution_count": 39,
   "metadata": {},
   "outputs": [
    {
     "name": "stdout",
     "output_type": "stream",
     "text": [
      "self is referencing the object <__main__.Pokemon object at 0x00000268B0440DC0>, \n",
      "Squirtle\n",
      "Water\n"
     ]
    }
   ],
   "source": [
    "# see above\n",
    "\n",
    "squirtle = Pokemon(\"Squirtle\", \"Water\")\n"
   ]
  },
  {
   "cell_type": "markdown",
   "metadata": {},
   "source": [
    "##### Accessing Class Attributes"
   ]
  },
  {
   "cell_type": "code",
   "execution_count": 41,
   "metadata": {
    "scrolled": true
   },
   "outputs": [
    {
     "name": "stdout",
     "output_type": "stream",
     "text": [
      "Squirtle\n",
      "Water\n",
      "{'name': 'Squirtle', 'type_': 'Water'}\n"
     ]
    }
   ],
   "source": [
    "# See Above\n",
    "\n",
    "print(squirtle.name)\n",
    "print(squirtle.type_)\n",
    "\n",
    "print(squirtle.__dict__)\n"
   ]
  },
  {
   "cell_type": "markdown",
   "metadata": {},
   "source": [
    "##### Setting Defaults for Attributes"
   ]
  },
  {
   "cell_type": "code",
   "execution_count": 62,
   "metadata": {},
   "outputs": [
    {
     "name": "stdout",
     "output_type": "stream",
     "text": [
      "4\n",
      "Blue\n"
     ]
    }
   ],
   "source": [
    "class Car():\n",
    "    def __init__(self, wheels):\n",
    "        self.wheels = wheels\n",
    "        self.color = \"Blue\"\n",
    "\n",
    "honda = Car(4)\n",
    "\n",
    "print(honda.wheels)\n",
    "print(honda.color)\n"
   ]
  },
  {
   "cell_type": "code",
   "execution_count": 63,
   "metadata": {},
   "outputs": [
    {
     "name": "stdout",
     "output_type": "stream",
     "text": [
      "4\n",
      "Blue\n",
      "4\n",
      "Green\n"
     ]
    }
   ],
   "source": [
    "class Car():\n",
    "    def __init__(self, wheels, color = \"Blue\"):\n",
    "        self.wheels = wheels\n",
    "        self.color = color\n",
    "\n",
    "ford = Car(4)\n",
    "\n",
    "print(ford.wheels)\n",
    "print(ford.color)        \n",
    "\n",
    "ford = Car(4, \"Green\")\n",
    "\n",
    "print(ford.wheels)\n",
    "print(ford.color) \n"
   ]
  },
  {
   "cell_type": "markdown",
   "metadata": {},
   "source": [
    "##### Changing Class Attributes <br>\n",
    "<p>Keep in mind there are global class attributes and then there are attributes only available to each class instance which won't effect other classes.</p>"
   ]
  },
  {
   "cell_type": "code",
   "execution_count": 64,
   "metadata": {},
   "outputs": [
    {
     "name": "stdout",
     "output_type": "stream",
     "text": [
      "Before attribute change: {'wheels': 4, 'color': 'Blue'}\n",
      "After attribute change: {'wheels': 4, 'color': 'White'}\n"
     ]
    }
   ],
   "source": [
    "# change the default attribute\n",
    "\n",
    "print(f\"Before attribute change: {honda.__dict__}\")\n",
    "\n",
    "honda.color = \"White\"\n",
    "\n",
    "print(f\"After attribute change: {honda.__dict__}\")\n"
   ]
  },
  {
   "cell_type": "code",
   "execution_count": 65,
   "metadata": {},
   "outputs": [
    {
     "name": "stdout",
     "output_type": "stream",
     "text": [
      "Before attribute change: {'wheels': 4, 'color': 'Green'}\n",
      "After attribute change: {'wheels': 4, 'color': 'Orange'}\n"
     ]
    }
   ],
   "source": [
    "print(f\"Before attribute change: {ford.__dict__}\")\n",
    "\n",
    "ford.color = \"Orange\"\n",
    "\n",
    "print(f\"After attribute change: {ford.__dict__}\")\n"
   ]
  },
  {
   "cell_type": "markdown",
   "metadata": {},
   "source": [
    "##### In-Class Exercise #2 - Add a doors and seats attribute to your 'Car' class then print out two different instances with different doors and seats"
   ]
  },
  {
   "cell_type": "code",
   "execution_count": 79,
   "metadata": {},
   "outputs": [
    {
     "name": "stdout",
     "output_type": "stream",
     "text": [
      "{'make': 'Hyundai', 'model': 'Ionic 5', 'body_style': 'Compact SUV', 'doors': 4, 'seats': 4, 'power_source': 'EV', 'year': '2023'}\n",
      "\n",
      "\n",
      "{'make': 'Hyundai', 'model': 'Ionic 5', 'body_style': 'Compact SUV', 'doors': 2, 'seats': 2, 'power_source': 'EV', 'year': '2023'}\n"
     ]
    }
   ],
   "source": [
    "class Car():\n",
    "    def __init__(self, make, model, body_style, seats, power_source, year, doors = 4):\n",
    "        self.make = make\n",
    "        self.model = model\n",
    "        self.body_style = body_style\n",
    "        self.doors = doors\n",
    "        self.seats = seats\n",
    "        self.power_source = power_source\n",
    "        self.year = year\n",
    "        \n",
    "new_car = Car(\"Hyundai\", \"Ionic 5\", \"Compact SUV\", 4, \"EV\", \"2023\")\n",
    "\n",
    "# original\n",
    "print(new_car.__dict__)\n",
    "\n",
    "# change some attributes\n",
    "new_car.doors = 2\n",
    "new_car.seats = 2\n",
    "\n",
    "print(\"\\n\")\n",
    "print(new_car.__dict__)\n"
   ]
  },
  {
   "cell_type": "markdown",
   "metadata": {},
   "source": [
    "## Class Methods <br>\n",
    "<p>While inside of a class, functions are referred to as 'methods'. If you hear someone mention methods, they're speaking about classes. Methods are essentially functions, but only callable on the instances of a class.</p>"
   ]
  },
  {
   "cell_type": "markdown",
   "metadata": {},
   "source": [
    "##### Creating"
   ]
  },
  {
   "cell_type": "code",
   "execution_count": 90,
   "metadata": {},
   "outputs": [],
   "source": [
    "class Bus():\n",
    "    \"\"\"\n",
    "    The bus will have doors, seats, seats available, color, and a bus driver.\n",
    "    \n",
    "    Attributes for the class:\n",
    "    - doors: integer\n",
    "    - seats: integer\n",
    "    - seats_available: integer\n",
    "    - color: string\n",
    "    - bus_driver: string\n",
    "    \n",
    "    \"\"\"\n",
    "    \n",
    "    def __init__(self, doors, seats, seats_available, color, bus_driver):\n",
    "        self.doors = doors\n",
    "        self.seats = seats\n",
    "        self.seats_available = seats_available\n",
    "        self.color = color\n",
    "        self.bus_driver = bus_driver\n",
    "    \n",
    "    # decrement the number of seats available\n",
    "    def load_passengers(self):\n",
    "        if self.seats_available <= 0:\n",
    "            print(\"This bus is full!  You can't take any more passengers!\")\n",
    "            if self.seats_available < 0:\n",
    "                print(f\"You left {abs(self.seats_available)} by the road!\")\n",
    "                self.seats_available = 0\n",
    "        else:\n",
    "            passengers = int(input(\"How many passengers are getting on? \"))\n",
    "            self.seats_available -= passengers\n",
    "            print(f\"{passengers} passengers have boarded. There are {self.seats_available} left on the bus!\")\n",
    "\n",
    "    # increment the number of seats available\n",
    "    def unload_passengers(self):\n",
    "        if self.seats_available >= self.seats:\n",
    "            print(\"There is no one left to get off the bus!\")\n",
    "        else:\n",
    "            unload = int(input(\"How many passengers are getting off the bus? \"))\n",
    "            self.seats_available += unload\n",
    "            if self.seats_available >= self.seats:\n",
    "                self.seats_available = self.seats\n",
    "                print(f\"{unload} passengers have left the bus. There are {self.seats_available} left.\")\n",
    "            print(f\"{unload} passengers have left the bus. There are {self.seats_available} left.\")\n",
    "\n",
    "    # change bus_driver attribute\n",
    "    def change_driver(self):\n",
    "        change = input(\"Who is replacing you? \")\n",
    "        self.bus_driver = change\n",
    "        print(f\"The new bus driver is {self.bus_driver}. Be sure to thank them!\")\n",
    "        \n",
    "    # display seat information\n",
    "    def check_seats(self):\n",
    "        print(f\"Seats available: {self.seats_available}\")\n",
    "        \n",
    "    # display color information about bus\n",
    "    def admire_bus(self):\n",
    "        print(f\"Would you just look at that beautiful {self.color} bus!\")\n",
    "\n",
    "steve_bus = Bus(2, 90, 45, \"yellow\", \"Steve\")\n"
   ]
  },
  {
   "cell_type": "markdown",
   "metadata": {},
   "source": [
    "##### Calling"
   ]
  },
  {
   "cell_type": "code",
   "execution_count": 94,
   "metadata": {},
   "outputs": [
    {
     "name": "stdout",
     "output_type": "stream",
     "text": [
      "What would you like to do? Load/Unload/Change Driver/Check Seats/Admire/Quitquit\n",
      "Oh no! There are still passengers to be picked up! :( \n"
     ]
    }
   ],
   "source": [
    "# See Above\n",
    "\n",
    "def run():\n",
    "    while True:\n",
    "        response = input(\"What would you like to do? Load/Unload/Change Driver/Check Seats/Admire/Quit\")\n",
    "        if response.lower() == \"quit\":\n",
    "            print(\"Oh no! There are still passengers to be picked up! :( \")\n",
    "            break\n",
    "        elif response.lower() == \"load\":\n",
    "            steve_bus.load_passengers()\n",
    "        elif response.lower() == \"unload\":\n",
    "            steve_bus.unload_passengers()    \n",
    "        elif response.lower() == \"change driver\":\n",
    "            steve_bus.change_driver() \n",
    "        elif response.lower() == \"check seats\":\n",
    "            steve_bus.check_seats() \n",
    "        elif response.lower() == \"admire\":\n",
    "            steve_bus.admire_bus()\n",
    "        else:\n",
    "            print(\"That is not a valid response! Please pick from the list! \")\n",
    "\n",
    "run()\n"
   ]
  },
  {
   "cell_type": "markdown",
   "metadata": {},
   "source": [
    "##### Modifying an Attribute's Value Through a Method"
   ]
  },
  {
   "cell_type": "code",
   "execution_count": null,
   "metadata": {},
   "outputs": [],
   "source": [
    "# see above\n"
   ]
  },
  {
   "cell_type": "markdown",
   "metadata": {},
   "source": [
    "##### Incrementing an Attribute's Value Through a Method"
   ]
  },
  {
   "cell_type": "code",
   "execution_count": null,
   "metadata": {},
   "outputs": [],
   "source": [
    "# see above\n"
   ]
  },
  {
   "cell_type": "markdown",
   "metadata": {},
   "source": [
    "##### In-Class Exercise #3 - Add a method that takes in three parameters of year, doors and seats and prints out a formatted print statement with make, model, year, seats, and doors"
   ]
  },
  {
   "cell_type": "code",
   "execution_count": 97,
   "metadata": {},
   "outputs": [
    {
     "name": "stdout",
     "output_type": "stream",
     "text": [
      "{'make': 'Ford', 'model': 'Explorer', 'doors': 4, 'seats': 4, 'color': ''}\n"
     ]
    }
   ],
   "source": [
    "# Create class with 2 paramters inside of the __init__ which are make and model\n",
    "\n",
    "# Create two methods for your class\n",
    "\n",
    "# Create a method that alters an attribute for your class\n",
    "\n",
    "# Display method that prints information about the vehicle\n",
    "\n",
    "# Output: This car is from 2019 and is a Ford Expolorer and has 4 doors and 5 seats\n",
    "\n",
    "#reminder in order to call class methods instance.method()\n",
    "\n",
    "class Car():\n",
    "    def __init__(self, make, model, doors, seats):\n",
    "        self.make = make\n",
    "        self.model = model\n",
    "        self.doors = doors\n",
    "        self.seats = seats\n",
    "        self.color = \"\"\n",
    "    \n",
    "    def display_make(self):\n",
    "        print(f\"Your car is a {self.make}.\")        \n",
    "\n",
    "    def display_model(self):\n",
    "        print(f\"Your car is a {self.model}.\")        \n",
    "\n",
    "    def display_doors(self):\n",
    "        print(f\"Your car has {self.doors} doors.\")\n",
    "    \n",
    "    def change_doors(self):\n",
    "        new_doors = int(input(\"How many doors do you want your car to have? \"))\n",
    "        self.doors = new_doors\n",
    "        \n",
    "    def display_color(self):\n",
    "        print(f\"Your car is {self.color}.\")\n",
    "    \n",
    "    def change_color(self):\n",
    "        new_color = input(\"What color do you want your car to be? \")\n",
    "        self.color = new_color\n",
    "\n",
    "new_car = Car(\"Ford\", \"Explorer\", 4, 4)\n",
    "\n",
    "print(new_car.__dict__)\n"
   ]
  },
  {
   "cell_type": "code",
   "execution_count": 100,
   "metadata": {},
   "outputs": [
    {
     "name": "stdout",
     "output_type": "stream",
     "text": [
      "4\n",
      "What color do you want your car to be? yellow\n",
      "Your car is yellow.\n"
     ]
    }
   ],
   "source": [
    "print(new_car.seats)\n",
    "\n",
    "new_car.change_color()\n",
    "\n",
    "new_car.display_color()\n"
   ]
  },
  {
   "cell_type": "markdown",
   "metadata": {},
   "source": [
    "## Inheritance <br>\n",
    "<p>You can create a child-parent relationship between two classes by using inheritance. What this allows you to do is have overriding methods, but also inherit traits from the parent class. Think of it as an actual parent and child, the child will inherit the parent's genes, as will the classes in OOP</p>"
   ]
  },
  {
   "cell_type": "markdown",
   "metadata": {},
   "source": [
    "##### Syntax for Inheriting from a Parent Class"
   ]
  },
  {
   "cell_type": "code",
   "execution_count": 114,
   "metadata": {},
   "outputs": [],
   "source": [
    "# creation of our parent class\n",
    "class Animal():\n",
    "    ACCELERATION = 9.8\n",
    "    def __init__(self, name, species, legs=4):\n",
    "        self.name = name\n",
    "        self.species = species\n",
    "        self.legs = legs\n",
    "    \n",
    "    # generic parent method\n",
    "    def make_sound(self):\n",
    "        print(\"REEEEEEEEEEE\")\n",
    "        \n",
    "# creation of our child class - Dog\n",
    "class Dog(Animal):\n",
    "    SPEED = 15\n",
    "    def print_info(self):\n",
    "        print(f\"{self.name} runs at {self.SPEED} mph and accelerates at {self.ACCELERATION} m/s^2\")\n",
    "\n",
    "# Creation of our grandchild class - Mutt\n",
    "class Mutt(Dog):\n",
    "    COLOR = \"light brownish, beige\"\n",
    "\n",
    "    # accessing the Animal class init through the Dog class\n",
    "    def __init__(self, name, species, eye_color, legs=4):\n",
    "        Dog.__init__(self, name, species, legs)\n",
    "        self.eye_color = eye_color\n",
    "\n",
    "    # override the make_sound method from the Animal class\n",
    "    def make_sound(self):\n",
    "        print(\"roooooooooooo\")\n"
   ]
  },
  {
   "cell_type": "code",
   "execution_count": 115,
   "metadata": {
    "scrolled": true
   },
   "outputs": [
    {
     "name": "stdout",
     "output_type": "stream",
     "text": [
      "REEEEEEEEEEE\n",
      "REEEEEEEEEEE\n",
      "REEEEEEEEEEE\n",
      "REEEEEEEEEEE\n",
      "9.8\n"
     ]
    }
   ],
   "source": [
    "bear = Animal(\"Otto\", \"Polar Bear\")\n",
    "otter = Animal(\"Bear\", \"River Otter\")\n",
    "liger = Animal(\"Napoleon\", \"Liger\")\n",
    "llama = Animal(\"Tina\", \"Llama\")\n",
    "\n",
    "bear.make_sound()\n",
    "otter.make_sound()\n",
    "liger.make_sound()\n",
    "llama.make_sound()\n",
    "\n",
    "print(bear.ACCELERATION)\n"
   ]
  },
  {
   "cell_type": "code",
   "execution_count": 119,
   "metadata": {
    "scrolled": true
   },
   "outputs": [
    {
     "name": "stdout",
     "output_type": "stream",
     "text": [
      "REEEEEEEEEEE\n",
      "4\n",
      "Greg runs at 15 mph and accelerates at 9.8 m/s^2\n"
     ]
    }
   ],
   "source": [
    "greg = Dog(\"Greg\", \"Pit Bull\")\n",
    "\n",
    "greg.make_sound()\n",
    "print(greg.legs)\n",
    "greg.print_info()\n",
    "\n",
    "# bear.print_info() # invalid\n"
   ]
  },
  {
   "cell_type": "code",
   "execution_count": 127,
   "metadata": {},
   "outputs": [
    {
     "name": "stdout",
     "output_type": "stream",
     "text": [
      "Eyo runs at 15 mph and accelerates at 9.8 m/s^2\n",
      "light brownish, beige\n",
      "Brown\n",
      "Green\n",
      "roooooooooooo\n",
      "roooooooooooo\n"
     ]
    }
   ],
   "source": [
    "eyo = Mutt(\"Eyo\", \"Dog\", \"Brown\")\n",
    "henri = Mutt(\"Henri\", \"Dog\", \"Green\")\n",
    "\n",
    "eyo.print_info()\n",
    "print(henri.COLOR)\n",
    "print(eyo.eye_color)\n",
    "print(henri.eye_color)\n",
    "\n",
    "eyo.make_sound()\n",
    "henri.make_sound()\n"
   ]
  },
  {
   "cell_type": "markdown",
   "metadata": {},
   "source": [
    "##### The \\__init\\__() Method for a Child Class - super()"
   ]
  },
  {
   "cell_type": "code",
   "execution_count": 132,
   "metadata": {
    "scrolled": true
   },
   "outputs": [
    {
     "name": "stdout",
     "output_type": "stream",
     "text": [
      "Courage\n",
      "Schnauzer\n",
      "Courage runs at 15 mph and accelerates at 9.8 m/s^2\n"
     ]
    }
   ],
   "source": [
    "class Mutt(Dog):\n",
    "    \n",
    "    COLOR = \"lots of colors\"\n",
    "    #accessing the Animal class __init__ with the super().__init__\n",
    "    def __init__(self, name, species, eye_color, legs = 4):\n",
    "        super().__init__(name, species, legs)\n",
    "        #super() will reference the class that the child takes in\n",
    "        self.eye_color = eye_color\n",
    "    def make_sound(self):\n",
    "        print(\"wooooof\")\n",
    "        \n",
    "courage = Mutt(\"Courage\", \"Schnauzer\", \"black\")\n",
    "\n",
    "print(courage.name)\n",
    "print(courage.species)\n",
    "courage.print_info()\n"
   ]
  },
  {
   "cell_type": "markdown",
   "metadata": {},
   "source": [
    "##### Defining Attributes and Methods for the Child Class"
   ]
  },
  {
   "cell_type": "code",
   "execution_count": null,
   "metadata": {},
   "outputs": [],
   "source": [
    "# See Above"
   ]
  },
  {
   "cell_type": "markdown",
   "metadata": {},
   "source": [
    "##### Method Overriding"
   ]
  },
  {
   "cell_type": "code",
   "execution_count": null,
   "metadata": {},
   "outputs": [],
   "source": [
    "# See Above"
   ]
  },
  {
   "cell_type": "markdown",
   "metadata": {},
   "source": [
    "## Classes as Attributes <br>\n",
    "<p>Classes can also be used as attributes within another class. This is useful in situations where you need to keep variables locally stored, instead of globally stored.</p>"
   ]
  },
  {
   "cell_type": "code",
   "execution_count": 138,
   "metadata": {},
   "outputs": [
    {
     "name": "stdout",
     "output_type": "stream",
     "text": [
      "2022 Volkswagen Jetta 20\n",
      "20\n",
      "7.8\n"
     ]
    }
   ],
   "source": [
    "class Battery():\n",
    "    VOLTS = 7.8\n",
    "    \n",
    "    def __init__(self, cells):\n",
    "        self.cells = cells\n",
    "\n",
    "class Car():\n",
    "    def __init__(self, year, make, model, battery):\n",
    "        self.year = year\n",
    "        self.make = make\n",
    "        self.model = model\n",
    "        self.battery = battery\n",
    "    \n",
    "    def print_info(self):\n",
    "        print(f\"{self.year} {self.make} {self.model} {self.battery.cells}\")\n",
    "\n",
    "battery = Battery(20)\n",
    "\n",
    "volkswagen = Car(2022, \"Volkswagen\", \"Jetta\", battery)\n",
    "\n",
    "volkswagen.print_info()\n",
    "print(volkswagen.battery.cells)\n",
    "print(volkswagen.battery.VOLTS)\n"
   ]
  },
  {
   "cell_type": "markdown",
   "metadata": {},
   "source": [
    "# Exercises"
   ]
  },
  {
   "cell_type": "markdown",
   "metadata": {},
   "source": [
    "### Exercise 1 - Turn the shopping cart program from last week into an object-oriented program\n",
    "\n",
    "The comments in the cell below are there as a guide for thinking about the problem. However, if you feel a different way is best for you and your own thought process, please do what feels best for you by all means."
   ]
  },
  {
   "cell_type": "code",
   "execution_count": null,
   "metadata": {},
   "outputs": [
    {
     "name": "stdout",
     "output_type": "stream",
     "text": [
      "\n",
      "Welcome to our store. Let's begin your shopping experience! \n",
      "\n",
      "Do you want to Add/Display/Edit/Delete items, or Quit? add\n"
     ]
    }
   ],
   "source": [
    "# Create a class called cart that retains items and has methods to add, remove, and show\n",
    "\n",
    "from IPython.display import clear_output\n",
    "\n",
    "# attributes are stored in a dict \n",
    "# self.items = {\n",
    "#     0: {\n",
    "#         \"name\": \"\",\n",
    "#         \"units\": \"\",\n",
    "#         \"quantity\": 0\n",
    "#     }\n",
    "# }      \n",
    "\n",
    "class Cart():\n",
    "        \n",
    "    def __init__(self):\n",
    "        self.items = {}\n",
    "\n",
    "    def display_cart(self):\n",
    "        if self.cart_empty():\n",
    "            print(\"\\nYour shopping cart is currently empty.\")\n",
    "        else:\n",
    "            print(\"\\nYour shopping cart contains the following items:\")\n",
    "            for key1, value1 in self.items.items():\n",
    "                if key1 > 0:\n",
    "                    print(f\"Item #: {key1} | name: {value1['name']} | quantity: {value1['quantity']} | units: {value1['units']}\")\n",
    "\n",
    "    def add_item(self):\n",
    "        if len(self.items) == 0:\n",
    "            self.items[0] = {}\n",
    "        else:\n",
    "            self.items[list(self.items)[-1] + 1] = {}\n",
    "            self.items[list(self.items)[-1]][\"name\"] = input(\"What do you want to add to your cart? \")\n",
    "            self.items[list(self.items)[-1]][\"units\"] = input(\"What are the units (e.g. count, ounces, etc.) of your item? \")           \n",
    "            quantity = \"\"\n",
    "            while not isinstance(quantity, float):\n",
    "                try:\n",
    "                    quantity = float(input(\"What quantity of your item do you want to add to your cart? \"))\n",
    "                except:\n",
    "                    print(\"Please enter a number only.\")\n",
    "                    quantity = float(input(\"What quantity of your item do you want to add to your cart? \"))\n",
    "                finally:\n",
    "                    continue\n",
    "            self.items[list(self.items)[-1]][\"quantity\"] = quantity\n",
    "  \n",
    "    def edit_cart(self):\n",
    "        item_number = int(input(\"Which item number do you want to edit? \"))\n",
    "        if item_number == 0 or item_number not in self.items:\n",
    "            print(\"Please enter a valid item number.\")\n",
    "            self.edit_cart()\n",
    "        else:\n",
    "            quantity = \"\"\n",
    "            while not isinstance(quantity, float):\n",
    "                try:\n",
    "                    quantity = float(input(\"What quantity of your item do you want to have in your cart? \"))\n",
    "                except:\n",
    "                    print(\"Please enter a number only.\")\n",
    "                    quantity = float(input(\"What quantity of your item do you want to have in your cart? \"))\n",
    "                finally:\n",
    "                    continue\n",
    "            self.items[item_number][\"quantity\"] = quantity\n",
    "        \n",
    "    def delete_item_entirely(self):\n",
    "        item_number = \"\"\n",
    "        while not isinstance(item_number, int):\n",
    "            item_number = int(input(\"Which item number do you want to delete entirely? \"))\n",
    "            if item_number == 0 or item_number not in self.items:\n",
    "                print(\"Please enter a valid item number.\")\n",
    "                self.delete_item_entirely()\n",
    "            else:\n",
    "                del self.items[item_number]\n",
    "    \n",
    "    def cart_empty(self):\n",
    "        if bool(self.items):\n",
    "            return True\n",
    "        else:\n",
    "            return False\n",
    "\n",
    "try:\n",
    "    del my_cart\n",
    "except:\n",
    "    my_cart = Cart()\n",
    "finally:\n",
    "    my_cart = Cart()\n",
    "\n",
    "clear_output()\n",
    "print(\"\\nWelcome to our store. Let's begin your shopping experience! \")\n",
    "\n",
    "while True:\n",
    "\n",
    "    response = input(\"\\nDo you want to Add/Display/Edit/Delete items, or Quit? \")\n",
    "    response = response.lower().strip()\n",
    "\n",
    "    if response == \"quit\":\n",
    "        print(\"Ta\")\n",
    "        break \n",
    "    elif response == \"add\":\n",
    "        my_cart.add_item() \n",
    "    elif response == \"display\":\n",
    "        my_cart.display_cart()\n",
    "    elif response == \"edit\":\n",
    "        my_cart.display_cart()\n",
    "        if not my_cart.cart_empty():\n",
    "            my_cart.edit_cart()\n",
    "            my_cart.display_cart() \n",
    "    elif response == \"delete\":\n",
    "        my_cart.display_cart()\n",
    "        if not my_cart.cart_empty():\n",
    "            my_cart.delete_item_entirely() \n",
    "            my_cart.display_cart()\n",
    "    else:\n",
    "        print(\"Invalid entry. Please try again.\")\n",
    "\n"
   ]
  },
  {
   "cell_type": "markdown",
   "metadata": {},
   "source": [
    "### Exercise 2 - Write a Python class which has two methods get_String and print_String. get_String accept a string from the user and print_String print the string in upper case"
   ]
  },
  {
   "cell_type": "code",
   "execution_count": 144,
   "metadata": {},
   "outputs": [
    {
     "name": "stdout",
     "output_type": "stream",
     "text": [
      "Please enter some text: Hello, world!\n",
      "HELLO, WORLD!\n"
     ]
    }
   ],
   "source": [
    "class StringPrint():\n",
    "    def __init__(self, your_string = \"\"):\n",
    "        self.your_string = your_string\n",
    "    \n",
    "    def get_String(self):\n",
    "        self.your_string = input(\"Please enter some text: \")\n",
    "    \n",
    "    def print_String(self):\n",
    "        print(f\"{self.your_string.upper()}\")\n",
    "\n",
    "my_class = StringPrint()\n",
    "\n",
    "my_class.get_String()\n",
    "\n",
    "my_class.print_String()\n",
    "        "
   ]
  }
 ],
 "metadata": {
  "kernelspec": {
   "display_name": "Python 3 (ipykernel)",
   "language": "python",
   "name": "python3"
  },
  "language_info": {
   "codemirror_mode": {
    "name": "ipython",
    "version": 3
   },
   "file_extension": ".py",
   "mimetype": "text/x-python",
   "name": "python",
   "nbconvert_exporter": "python",
   "pygments_lexer": "ipython3",
   "version": "3.9.12"
  }
 },
 "nbformat": 4,
 "nbformat_minor": 2
}
